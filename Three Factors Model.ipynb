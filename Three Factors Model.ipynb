{
 "cells": [
  {
   "cell_type": "code",
   "execution_count": 1,
   "id": "wooden-republican",
   "metadata": {},
   "outputs": [],
   "source": [
    "%matplotlib inline\n",
    "%config InlineBackend.figure_format = 'retina'"
   ]
  },
  {
   "cell_type": "code",
   "execution_count": 2,
   "id": "pleased-operator",
   "metadata": {},
   "outputs": [],
   "source": [
    "import matplotlib.pyplot as plt\n",
    "import warnings\n",
    "\n",
    "plt.style.use('seaborn')\n",
    "# plt.style.use('seaborn-colorblind') #alternative\n",
    "plt.rcParams['figure.figsize'] = [8, 4.5]\n",
    "plt.rcParams['figure.dpi'] = 300\n",
    "warnings.simplefilter(action='ignore', category=FutureWarning)"
   ]
  },
  {
   "cell_type": "code",
   "execution_count": 3,
   "id": "twenty-telling",
   "metadata": {},
   "outputs": [],
   "source": [
    "import pandas as pd\n",
    "import yfinance as yf\n",
    "import statsmodels.formula.api as smf\n",
    "import numpy as np"
   ]
  },
  {
   "cell_type": "code",
   "execution_count": 4,
   "id": "awful-hunter",
   "metadata": {},
   "outputs": [],
   "source": [
    "RISKY_ASSET = 'TSLA'\n",
    "START_DATE = '2015-12-31'\n",
    "END_DATE = '2020-12-31'"
   ]
  },
  {
   "cell_type": "code",
   "execution_count": 5,
   "id": "consistent-papua",
   "metadata": {},
   "outputs": [],
   "source": [
    "# load data from csv\n",
    "factor_df = pd.read_csv('F-F_Research_Data_Factors.csv', skiprows=3)\n",
    "\n",
    "# identify where the annual data starts\n",
    "STR_TO_MATCH = ' Annual Factors: January-December '\n",
    "indices = factor_df.iloc[:, 0] == STR_TO_MATCH\n",
    "start_of_annual = factor_df[indices].index[0]\n",
    "\n",
    "# keep only monthly data\n",
    "factor_df = factor_df[factor_df.index < start_of_annual]"
   ]
  },
  {
   "cell_type": "code",
   "execution_count": 6,
   "id": "twelve-processing",
   "metadata": {},
   "outputs": [],
   "source": [
    "# rename columns\n",
    "factor_df.columns = ['date', 'mkt', 'smb', 'hml', 'rf']\n",
    "\n",
    "# convert strings to datetime\n",
    "factor_df['date'] = pd.to_datetime(factor_df['date'], \n",
    "                                   format='%Y%m') \\\n",
    "                      .dt.strftime(\"%Y-%m\")\n",
    "\n",
    "# set index\n",
    "factor_df = factor_df.set_index('date')\n",
    "\n",
    "# filter only required dates\n",
    "factor_df = factor_df.loc[START_DATE:END_DATE]"
   ]
  },
  {
   "cell_type": "code",
   "execution_count": 7,
   "id": "champion-vessel",
   "metadata": {},
   "outputs": [
    {
     "data": {
      "text/html": [
       "<div>\n",
       "<style scoped>\n",
       "    .dataframe tbody tr th:only-of-type {\n",
       "        vertical-align: middle;\n",
       "    }\n",
       "\n",
       "    .dataframe tbody tr th {\n",
       "        vertical-align: top;\n",
       "    }\n",
       "\n",
       "    .dataframe thead th {\n",
       "        text-align: right;\n",
       "    }\n",
       "</style>\n",
       "<table border=\"1\" class=\"dataframe\">\n",
       "  <thead>\n",
       "    <tr style=\"text-align: right;\">\n",
       "      <th></th>\n",
       "      <th>mkt</th>\n",
       "      <th>smb</th>\n",
       "      <th>hml</th>\n",
       "      <th>rf</th>\n",
       "    </tr>\n",
       "    <tr>\n",
       "      <th>date</th>\n",
       "      <th></th>\n",
       "      <th></th>\n",
       "      <th></th>\n",
       "      <th></th>\n",
       "    </tr>\n",
       "  </thead>\n",
       "  <tbody>\n",
       "    <tr>\n",
       "      <th>2016-01</th>\n",
       "      <td>-0.0577</td>\n",
       "      <td>-0.0336</td>\n",
       "      <td>0.0201</td>\n",
       "      <td>0.0001</td>\n",
       "    </tr>\n",
       "    <tr>\n",
       "      <th>2016-02</th>\n",
       "      <td>-0.0008</td>\n",
       "      <td>0.0083</td>\n",
       "      <td>-0.0059</td>\n",
       "      <td>0.0002</td>\n",
       "    </tr>\n",
       "    <tr>\n",
       "      <th>2016-03</th>\n",
       "      <td>0.0696</td>\n",
       "      <td>0.0082</td>\n",
       "      <td>0.0111</td>\n",
       "      <td>0.0002</td>\n",
       "    </tr>\n",
       "    <tr>\n",
       "      <th>2016-04</th>\n",
       "      <td>0.0092</td>\n",
       "      <td>0.0069</td>\n",
       "      <td>0.0328</td>\n",
       "      <td>0.0001</td>\n",
       "    </tr>\n",
       "    <tr>\n",
       "      <th>2016-05</th>\n",
       "      <td>0.0178</td>\n",
       "      <td>-0.0027</td>\n",
       "      <td>-0.0160</td>\n",
       "      <td>0.0001</td>\n",
       "    </tr>\n",
       "  </tbody>\n",
       "</table>\n",
       "</div>"
      ],
      "text/plain": [
       "            mkt     smb     hml      rf\n",
       "date                                   \n",
       "2016-01 -0.0577 -0.0336  0.0201  0.0001\n",
       "2016-02 -0.0008  0.0083 -0.0059  0.0002\n",
       "2016-03  0.0696  0.0082  0.0111  0.0002\n",
       "2016-04  0.0092  0.0069  0.0328  0.0001\n",
       "2016-05  0.0178 -0.0027 -0.0160  0.0001"
      ]
     },
     "execution_count": 7,
     "metadata": {},
     "output_type": "execute_result"
    }
   ],
   "source": [
    "factor_df = factor_df.apply(pd.to_numeric, \n",
    "                            errors='coerce') \\\n",
    "                     .div(100)\n",
    "factor_df.head()"
   ]
  },
  {
   "cell_type": "code",
   "execution_count": 8,
   "id": "gothic-works",
   "metadata": {},
   "outputs": [
    {
     "name": "stdout",
     "output_type": "stream",
     "text": [
      "Downloaded 1260 rows of data.\n"
     ]
    }
   ],
   "source": [
    "asset_df = yf.download(RISKY_ASSET,\n",
    "                       start=START_DATE,\n",
    "                       end=END_DATE,\n",
    "                       adjusted=True,\n",
    "                       progress=False)\n",
    "\n",
    "print(f'Downloaded {asset_df.shape[0]} rows of data.')"
   ]
  },
  {
   "cell_type": "code",
   "execution_count": 9,
   "id": "paperback-louisiana",
   "metadata": {},
   "outputs": [
    {
     "data": {
      "text/plain": [
       "Date\n",
       "2016-01   -0.203366\n",
       "2016-02    0.003818\n",
       "2016-03    0.197155\n",
       "2016-04    0.047830\n",
       "2016-05   -0.072811\n",
       "Name: rtn, dtype: float64"
      ]
     },
     "execution_count": 9,
     "metadata": {},
     "output_type": "execute_result"
    }
   ],
   "source": [
    "y = asset_df['Adj Close'].resample('M') \\\n",
    "                         .last() \\\n",
    "                         .pct_change() \\\n",
    "                         .dropna()\n",
    "\n",
    "y.index = y.index.strftime('%Y-%m')\n",
    "y.name = 'rtn'\n",
    "y.head()"
   ]
  },
  {
   "cell_type": "code",
   "execution_count": 10,
   "id": "overall-robert",
   "metadata": {},
   "outputs": [],
   "source": [
    "ff_data = factor_df.join(y)\n",
    "ff_data['excess_rtn'] = ff_data.rtn - ff_data.rf"
   ]
  },
  {
   "cell_type": "code",
   "execution_count": 11,
   "id": "coated-defense",
   "metadata": {},
   "outputs": [
    {
     "name": "stdout",
     "output_type": "stream",
     "text": [
      "                            OLS Regression Results                            \n",
      "==============================================================================\n",
      "Dep. Variable:             excess_rtn   R-squared:                       0.291\n",
      "Model:                            OLS   Adj. R-squared:                  0.253\n",
      "Method:                 Least Squares   F-statistic:                     7.663\n",
      "Date:                Thu, 22 Apr 2021   Prob (F-statistic):           0.000223\n",
      "Time:                        17:46:20   Log-Likelihood:                 24.294\n",
      "No. Observations:                  60   AIC:                            -40.59\n",
      "Df Residuals:                      56   BIC:                            -32.21\n",
      "Df Model:                           3                                         \n",
      "Covariance Type:            nonrobust                                         \n",
      "==============================================================================\n",
      "                 coef    std err          t      P>|t|      [0.025      0.975]\n",
      "------------------------------------------------------------------------------\n",
      "Intercept      0.0231      0.023      0.991      0.326      -0.024       0.070\n",
      "mkt            2.4258      0.524      4.631      0.000       1.376       3.475\n",
      "smb           -0.7772      0.952     -0.816      0.418      -2.685       1.130\n",
      "hml           -0.9261      0.688     -1.346      0.184      -2.304       0.452\n",
      "==============================================================================\n",
      "Omnibus:                       12.514   Durbin-Watson:                   1.822\n",
      "Prob(Omnibus):                  0.002   Jarque-Bera (JB):               13.388\n",
      "Skew:                           0.954   Prob(JB):                      0.00124\n",
      "Kurtosis:                       4.309   Cond. No.                         46.0\n",
      "==============================================================================\n",
      "\n",
      "Notes:\n",
      "[1] Standard Errors assume that the covariance matrix of the errors is correctly specified.\n"
     ]
    }
   ],
   "source": [
    "# define and fit the regression model \n",
    "ff_model = smf.ols(formula='excess_rtn ~ mkt + smb + hml', \n",
    "                   data=ff_data).fit()\n",
    "\n",
    "# print results \n",
    "print(ff_model.summary())"
   ]
  },
  {
   "cell_type": "code",
   "execution_count": 12,
   "id": "immediate-klein",
   "metadata": {},
   "outputs": [],
   "source": [
    "from pandas_datareader.famafrench import get_available_datasets\n",
    "import pandas_datareader.data as web"
   ]
  },
  {
   "cell_type": "code",
   "execution_count": 13,
   "id": "corresponding-cover",
   "metadata": {},
   "outputs": [
    {
     "data": {
      "text/plain": [
       "['F-F_Research_Data_Factors',\n",
       " 'F-F_Research_Data_Factors_weekly',\n",
       " 'F-F_Research_Data_Factors_daily',\n",
       " 'F-F_Research_Data_5_Factors_2x3',\n",
       " 'F-F_Research_Data_5_Factors_2x3_daily']"
      ]
     },
     "execution_count": 13,
     "metadata": {},
     "output_type": "execute_result"
    }
   ],
   "source": [
    "get_available_datasets()[:5]"
   ]
  },
  {
   "cell_type": "code",
   "execution_count": 14,
   "id": "concrete-pioneer",
   "metadata": {},
   "outputs": [],
   "source": [
    "ff_dict = web.DataReader('F-F_Research_Data_Factors', 'famafrench', \n",
    "                         start='2015-01-01')"
   ]
  },
  {
   "cell_type": "code",
   "execution_count": 15,
   "id": "sorted-edwards",
   "metadata": {},
   "outputs": [
    {
     "data": {
      "text/plain": [
       "dict_keys([0, 1, 'DESCR'])"
      ]
     },
     "execution_count": 15,
     "metadata": {},
     "output_type": "execute_result"
    }
   ],
   "source": [
    "ff_dict.keys()"
   ]
  },
  {
   "cell_type": "code",
   "execution_count": 16,
   "id": "political-classroom",
   "metadata": {},
   "outputs": [
    {
     "name": "stdout",
     "output_type": "stream",
     "text": [
      "F-F Research Data Factors\n",
      "-------------------------\n",
      "\n",
      "This file was created by CMPT_ME_BEME_RETS using the 202102 CRSP database. The 1-month TBill return is from Ibbotson and Associates, Inc. Copyright 2021 Kenneth R. French\n",
      "\n",
      "  0 : (74 rows x 4 cols)\n",
      "  1 : Annual Factors: January-December (6 rows x 4 cols)\n"
     ]
    }
   ],
   "source": [
    "print(ff_dict['DESCR'])"
   ]
  },
  {
   "cell_type": "code",
   "execution_count": 17,
   "id": "amended-master",
   "metadata": {},
   "outputs": [
    {
     "data": {
      "text/html": [
       "<div>\n",
       "<style scoped>\n",
       "    .dataframe tbody tr th:only-of-type {\n",
       "        vertical-align: middle;\n",
       "    }\n",
       "\n",
       "    .dataframe tbody tr th {\n",
       "        vertical-align: top;\n",
       "    }\n",
       "\n",
       "    .dataframe thead th {\n",
       "        text-align: right;\n",
       "    }\n",
       "</style>\n",
       "<table border=\"1\" class=\"dataframe\">\n",
       "  <thead>\n",
       "    <tr style=\"text-align: right;\">\n",
       "      <th></th>\n",
       "      <th>Mkt-RF</th>\n",
       "      <th>SMB</th>\n",
       "      <th>HML</th>\n",
       "      <th>RF</th>\n",
       "    </tr>\n",
       "    <tr>\n",
       "      <th>Date</th>\n",
       "      <th></th>\n",
       "      <th></th>\n",
       "      <th></th>\n",
       "      <th></th>\n",
       "    </tr>\n",
       "  </thead>\n",
       "  <tbody>\n",
       "    <tr>\n",
       "      <th>2015-01</th>\n",
       "      <td>-3.11</td>\n",
       "      <td>-0.51</td>\n",
       "      <td>-3.56</td>\n",
       "      <td>0.0</td>\n",
       "    </tr>\n",
       "    <tr>\n",
       "      <th>2015-02</th>\n",
       "      <td>6.14</td>\n",
       "      <td>0.52</td>\n",
       "      <td>-1.81</td>\n",
       "      <td>0.0</td>\n",
       "    </tr>\n",
       "    <tr>\n",
       "      <th>2015-03</th>\n",
       "      <td>-1.12</td>\n",
       "      <td>3.02</td>\n",
       "      <td>-0.41</td>\n",
       "      <td>0.0</td>\n",
       "    </tr>\n",
       "    <tr>\n",
       "      <th>2015-04</th>\n",
       "      <td>0.59</td>\n",
       "      <td>-3.04</td>\n",
       "      <td>1.88</td>\n",
       "      <td>0.0</td>\n",
       "    </tr>\n",
       "    <tr>\n",
       "      <th>2015-05</th>\n",
       "      <td>1.36</td>\n",
       "      <td>0.89</td>\n",
       "      <td>-1.10</td>\n",
       "      <td>0.0</td>\n",
       "    </tr>\n",
       "  </tbody>\n",
       "</table>\n",
       "</div>"
      ],
      "text/plain": [
       "         Mkt-RF   SMB   HML   RF\n",
       "Date                            \n",
       "2015-01   -3.11 -0.51 -3.56  0.0\n",
       "2015-02    6.14  0.52 -1.81  0.0\n",
       "2015-03   -1.12  3.02 -0.41  0.0\n",
       "2015-04    0.59 -3.04  1.88  0.0\n",
       "2015-05    1.36  0.89 -1.10  0.0"
      ]
     },
     "execution_count": 17,
     "metadata": {},
     "output_type": "execute_result"
    }
   ],
   "source": [
    "ff_dict[0].head()"
   ]
  },
  {
   "cell_type": "code",
   "execution_count": 18,
   "id": "protecting-documentary",
   "metadata": {},
   "outputs": [],
   "source": [
    "print='시장팩터(MKT): CAMP과 유사한 시장의 초과 수익률을 측정한다.'\n",
    "print='크기팩터(SMB): 시가 총액이 큰 주식 대비 시가 총액이 작은 주식의 초과 수익률을 측정한다.'\n",
    "print='가치팩터(HML): 성장 주식 대비 초과 가치 주식의 초과 수익률을 측정한다.'"
   ]
  },
  {
   "cell_type": "code",
   "execution_count": 19,
   "id": "israeli-windows",
   "metadata": {},
   "outputs": [],
   "source": [
    "import pandas as pd\n",
    "import yfinance as yf\n",
    "import statsmodels.formula.api as smf\n",
    "import pandas_datareader.data as web"
   ]
  },
  {
   "cell_type": "code",
   "execution_count": 20,
   "id": "negative-diamond",
   "metadata": {},
   "outputs": [],
   "source": [
    "ASSETS = ['AMZN', 'GOOG', 'AAPL', 'MSFT']\n",
    "WEIGHTS = [0.25, 0.25, 0.25, 0.25]\n",
    "START_DATE = '2009-12-31'\n",
    "END_DATE = '2018-12-31'"
   ]
  },
  {
   "cell_type": "code",
   "execution_count": 21,
   "id": "indoor-liquid",
   "metadata": {},
   "outputs": [],
   "source": [
    "df_three_factor = web.DataReader('F-F_Research_Data_Factors', 'famafrench', \n",
    "                                 start=START_DATE)[0]\n",
    "df_three_factor = df_three_factor.div(100)\n",
    "df_three_factor.index = df_three_factor.index.format()"
   ]
  },
  {
   "cell_type": "code",
   "execution_count": 22,
   "id": "prompt-geography",
   "metadata": {},
   "outputs": [],
   "source": [
    "asset_df = yf.download(ASSETS,\n",
    "                       start=START_DATE,\n",
    "                       end=END_DATE,\n",
    "                       adjusted=True,\n",
    "                       progress=False)\n"
   ]
  },
  {
   "cell_type": "code",
   "execution_count": 23,
   "id": "moderate-likelihood",
   "metadata": {},
   "outputs": [],
   "source": [
    "asset_df = asset_df['Adj Close'].resample('M') \\\n",
    "                                .last() \\\n",
    "                                .pct_change() \\\n",
    "                                .dropna()\n",
    "# reformat index for joining\n",
    "asset_df.index = asset_df.index.strftime('%Y-%m')"
   ]
  },
  {
   "cell_type": "code",
   "execution_count": null,
   "id": "engaging-attention",
   "metadata": {},
   "outputs": [],
   "source": []
  }
 ],
 "metadata": {
  "kernelspec": {
   "display_name": "Python 3",
   "language": "python",
   "name": "python3"
  },
  "language_info": {
   "codemirror_mode": {
    "name": "ipython",
    "version": 3
   },
   "file_extension": ".py",
   "mimetype": "text/x-python",
   "name": "python",
   "nbconvert_exporter": "python",
   "pygments_lexer": "ipython3",
   "version": "3.8.6"
  }
 },
 "nbformat": 4,
 "nbformat_minor": 5
}
